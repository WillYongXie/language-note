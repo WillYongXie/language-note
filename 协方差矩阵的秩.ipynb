{
 "cells": [
  {
   "cell_type": "markdown",
   "metadata": {},
   "source": [
    "# 协方差矩阵的秩"
   ]
  },
  {
   "cell_type": "markdown",
   "metadata": {},
   "source": [
    "该notebook用于研究协方差矩阵秩的条件：\n",
    "\n",
    "协方差矩阵 $ S = \\frac{1}{T}X(I - \\frac{1}{T}11^T)X^T $,其中$I$为单位矩阵，$X_{N \\times T}$是样本矩阵，表示$N$个特征，$T$样本. $I_{T \\times T}$为单位阵,$1_{T \\times 1}$的元素为1.\n",
    "\n",
    "根据矩阵秩的定理，协方差矩阵的秩小于上述三个矩阵的秩，其中$I - \\frac{1}{T}11^T$的秩为$T-1$，所$Rank(S) \\leq T-1$\n"
   ]
  },
  {
   "cell_type": "code",
   "execution_count": 2,
   "metadata": {},
   "outputs": [],
   "source": [
    "import numpy as np\n",
    "from numpy.linalg import matrix_rank  # 求矩阵的秩"
   ]
  },
  {
   "cell_type": "code",
   "execution_count": 9,
   "metadata": {},
   "outputs": [],
   "source": [
    "# 求中心矩阵\n",
    "\n",
    "def central_matrix(t):\n",
    "    # 输入样本量\n",
    "    unit_matrix = np.eye(t)\n",
    "    matrix_1 = np.array(np.array(([1]*t)).reshape(t,1))\n",
    "    h = unit_matrix - (matrix_1 * (matrix_1.T))/t\n",
    "    return h"
   ]
  },
  {
   "cell_type": "code",
   "execution_count": 13,
   "metadata": {},
   "outputs": [
    {
     "name": "stdout",
     "output_type": "stream",
     "text": [
      "10 9\n",
      "11 10\n",
      "12 11\n",
      "13 12\n",
      "14 13\n",
      "15 14\n",
      "16 15\n",
      "17 16\n",
      "18 17\n",
      "19 18\n"
     ]
    }
   ],
   "source": [
    "for t in range(10,20):\n",
    "    h = central_matrix(t)\n",
    "    rank = matrix_rank(h)\n",
    "    print(t,rank,)"
   ]
  },
  {
   "cell_type": "markdown",
   "metadata": {},
   "source": [
    "由此得证"
   ]
  },
  {
   "cell_type": "code",
   "execution_count": null,
   "metadata": {},
   "outputs": [],
   "source": []
  }
 ],
 "metadata": {
  "kernelspec": {
   "display_name": "Python 3",
   "language": "python",
   "name": "python3"
  },
  "language_info": {
   "codemirror_mode": {
    "name": "ipython",
    "version": 3
   },
   "file_extension": ".py",
   "mimetype": "text/x-python",
   "name": "python",
   "nbconvert_exporter": "python",
   "pygments_lexer": "ipython3",
   "version": "3.6.8"
  }
 },
 "nbformat": 4,
 "nbformat_minor": 2
}
