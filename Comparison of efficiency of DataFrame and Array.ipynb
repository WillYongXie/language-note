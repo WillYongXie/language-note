{
 "cells": [
  {
   "cell_type": "markdown",
   "metadata": {},
   "source": [
    "# Comparing the efficiency of certain functions on DataFrame and Array"
   ]
  },
  {
   "cell_type": "code",
   "execution_count": 1,
   "metadata": {},
   "outputs": [],
   "source": [
    "import pandas as pd\n",
    "import numpy as np"
   ]
  },
  {
   "cell_type": "markdown",
   "metadata": {},
   "source": [
    "# 1. For-traversal"
   ]
  },
  {
   "cell_type": "code",
   "execution_count": 9,
   "metadata": {},
   "outputs": [],
   "source": [
    "a = np.ones(100000)\n",
    "array = a.reshape(100,1000)"
   ]
  },
  {
   "cell_type": "code",
   "execution_count": 10,
   "metadata": {},
   "outputs": [
    {
     "data": {
      "text/plain": [
       "numpy.ndarray"
      ]
     },
     "execution_count": 10,
     "metadata": {},
     "output_type": "execute_result"
    }
   ],
   "source": [
    "type(array)"
   ]
  },
  {
   "cell_type": "code",
   "execution_count": 11,
   "metadata": {},
   "outputs": [],
   "source": [
    "df = pd.DataFrame(array)"
   ]
  },
  {
   "cell_type": "code",
   "execution_count": 12,
   "metadata": {},
   "outputs": [
    {
     "data": {
      "text/plain": [
       "pandas.core.frame.DataFrame"
      ]
     },
     "execution_count": 12,
     "metadata": {},
     "output_type": "execute_result"
    }
   ],
   "source": [
    "type(df)"
   ]
  },
  {
   "cell_type": "code",
   "execution_count": 17,
   "metadata": {},
   "outputs": [],
   "source": [
    "def df_circle_loc():\n",
    "    sum = 0\n",
    "    for index in df.index:\n",
    "        for column in df.columns:\n",
    "            sum += df.loc[index,column]\n",
    "    return sum"
   ]
  },
  {
   "cell_type": "code",
   "execution_count": 18,
   "metadata": {
    "scrolled": true
   },
   "outputs": [
    {
     "name": "stdout",
     "output_type": "stream",
     "text": [
      "1.03 s ± 53.1 ms per loop (mean ± std. dev. of 7 runs, 1 loop each)\n"
     ]
    }
   ],
   "source": [
    "%timeit df_circle_loc()"
   ]
  },
  {
   "cell_type": "code",
   "execution_count": 21,
   "metadata": {},
   "outputs": [],
   "source": [
    "def df_circle_iloc():\n",
    "    sum = 0\n",
    "    for i in range(100):\n",
    "        for j in range(1000):\n",
    "            sum += df.iloc[i,j]\n",
    "    return sum"
   ]
  },
  {
   "cell_type": "code",
   "execution_count": 22,
   "metadata": {
    "scrolled": true
   },
   "outputs": [
    {
     "name": "stdout",
     "output_type": "stream",
     "text": [
      "1.17 s ± 55.9 ms per loop (mean ± std. dev. of 7 runs, 1 loop each)\n"
     ]
    }
   ],
   "source": [
    "%timeit df_circle_iloc()"
   ]
  },
  {
   "cell_type": "markdown",
   "metadata": {},
   "source": [
    "df.iloc效率低于df.loc"
   ]
  },
  {
   "cell_type": "code",
   "execution_count": 23,
   "metadata": {},
   "outputs": [],
   "source": [
    "def array_circle():\n",
    "    sum = 0\n",
    "    for i in range(100):\n",
    "        for j in range(1000):\n",
    "            sum += array[i,j]\n",
    "    return sum"
   ]
  },
  {
   "cell_type": "code",
   "execution_count": 24,
   "metadata": {},
   "outputs": [
    {
     "name": "stdout",
     "output_type": "stream",
     "text": [
      "34.4 ms ± 2.64 ms per loop (mean ± std. dev. of 7 runs, 10 loops each)\n"
     ]
    }
   ],
   "source": [
    "%timeit array_circle()"
   ]
  },
  {
   "cell_type": "markdown",
   "metadata": {},
   "source": [
    "array遍历的效率远高于DataFrame"
   ]
  },
  {
   "cell_type": "code",
   "execution_count": 27,
   "metadata": {},
   "outputs": [],
   "source": [
    "def array_circle_transform():\n",
    "    sum = 0\n",
    "    arr = df.values\n",
    "    for i in range(100):\n",
    "        for j in range(1000):\n",
    "            sum += arr[i,j]\n",
    "    return sum"
   ]
  },
  {
   "cell_type": "code",
   "execution_count": 28,
   "metadata": {},
   "outputs": [
    {
     "name": "stdout",
     "output_type": "stream",
     "text": [
      "34.2 ms ± 1.91 ms per loop (mean ± std. dev. of 7 runs, 10 loops each)\n"
     ]
    }
   ],
   "source": [
    "%timeit array_circle_transform()"
   ]
  },
  {
   "cell_type": "code",
   "execution_count": 29,
   "metadata": {},
   "outputs": [],
   "source": [
    "def transform_array():\n",
    "    a = pd.DataFrame(array)"
   ]
  },
  {
   "cell_type": "code",
   "execution_count": 30,
   "metadata": {},
   "outputs": [],
   "source": [
    "def transform_dataframe():\n",
    "    b = df.values"
   ]
  },
  {
   "cell_type": "code",
   "execution_count": 31,
   "metadata": {},
   "outputs": [
    {
     "name": "stdout",
     "output_type": "stream",
     "text": [
      "101 µs ± 7.63 µs per loop (mean ± std. dev. of 7 runs, 10000 loops each)\n"
     ]
    }
   ],
   "source": [
    "%timeit transform_array()"
   ]
  },
  {
   "cell_type": "code",
   "execution_count": 32,
   "metadata": {},
   "outputs": [
    {
     "name": "stdout",
     "output_type": "stream",
     "text": [
      "6.36 µs ± 338 ns per loop (mean ± std. dev. of 7 runs, 100000 loops each)\n"
     ]
    }
   ],
   "source": [
    "%timeit transform_dataframe()"
   ]
  },
  {
   "cell_type": "markdown",
   "metadata": {},
   "source": [
    "The transformation between DataFrame and Array takes little time; But the transform from DataFrame to Array takes less"
   ]
  },
  {
   "cell_type": "markdown",
   "metadata": {},
   "source": [
    "# 2. Index"
   ]
  },
  {
   "cell_type": "code",
   "execution_count": 39,
   "metadata": {},
   "outputs": [],
   "source": [
    "array = np.array(range(100000)).reshape(100,1000).T"
   ]
  },
  {
   "cell_type": "code",
   "execution_count": 40,
   "metadata": {},
   "outputs": [],
   "source": [
    "df = pd.DataFrame(array)"
   ]
  },
  {
   "cell_type": "code",
   "execution_count": 42,
   "metadata": {},
   "outputs": [
    {
     "data": {
      "text/html": [
       "<div>\n",
       "<style scoped>\n",
       "    .dataframe tbody tr th:only-of-type {\n",
       "        vertical-align: middle;\n",
       "    }\n",
       "\n",
       "    .dataframe tbody tr th {\n",
       "        vertical-align: top;\n",
       "    }\n",
       "\n",
       "    .dataframe thead th {\n",
       "        text-align: right;\n",
       "    }\n",
       "</style>\n",
       "<table border=\"1\" class=\"dataframe\">\n",
       "  <thead>\n",
       "    <tr style=\"text-align: right;\">\n",
       "      <th></th>\n",
       "      <th>0</th>\n",
       "      <th>1</th>\n",
       "      <th>2</th>\n",
       "      <th>3</th>\n",
       "      <th>4</th>\n",
       "      <th>5</th>\n",
       "      <th>6</th>\n",
       "      <th>7</th>\n",
       "      <th>8</th>\n",
       "      <th>9</th>\n",
       "      <th>...</th>\n",
       "      <th>90</th>\n",
       "      <th>91</th>\n",
       "      <th>92</th>\n",
       "      <th>93</th>\n",
       "      <th>94</th>\n",
       "      <th>95</th>\n",
       "      <th>96</th>\n",
       "      <th>97</th>\n",
       "      <th>98</th>\n",
       "      <th>99</th>\n",
       "    </tr>\n",
       "  </thead>\n",
       "  <tbody>\n",
       "    <tr>\n",
       "      <th>0</th>\n",
       "      <td>0</td>\n",
       "      <td>1000</td>\n",
       "      <td>2000</td>\n",
       "      <td>3000</td>\n",
       "      <td>4000</td>\n",
       "      <td>5000</td>\n",
       "      <td>6000</td>\n",
       "      <td>7000</td>\n",
       "      <td>8000</td>\n",
       "      <td>9000</td>\n",
       "      <td>...</td>\n",
       "      <td>90000</td>\n",
       "      <td>91000</td>\n",
       "      <td>92000</td>\n",
       "      <td>93000</td>\n",
       "      <td>94000</td>\n",
       "      <td>95000</td>\n",
       "      <td>96000</td>\n",
       "      <td>97000</td>\n",
       "      <td>98000</td>\n",
       "      <td>99000</td>\n",
       "    </tr>\n",
       "    <tr>\n",
       "      <th>1</th>\n",
       "      <td>1</td>\n",
       "      <td>1001</td>\n",
       "      <td>2001</td>\n",
       "      <td>3001</td>\n",
       "      <td>4001</td>\n",
       "      <td>5001</td>\n",
       "      <td>6001</td>\n",
       "      <td>7001</td>\n",
       "      <td>8001</td>\n",
       "      <td>9001</td>\n",
       "      <td>...</td>\n",
       "      <td>90001</td>\n",
       "      <td>91001</td>\n",
       "      <td>92001</td>\n",
       "      <td>93001</td>\n",
       "      <td>94001</td>\n",
       "      <td>95001</td>\n",
       "      <td>96001</td>\n",
       "      <td>97001</td>\n",
       "      <td>98001</td>\n",
       "      <td>99001</td>\n",
       "    </tr>\n",
       "    <tr>\n",
       "      <th>2</th>\n",
       "      <td>2</td>\n",
       "      <td>1002</td>\n",
       "      <td>2002</td>\n",
       "      <td>3002</td>\n",
       "      <td>4002</td>\n",
       "      <td>5002</td>\n",
       "      <td>6002</td>\n",
       "      <td>7002</td>\n",
       "      <td>8002</td>\n",
       "      <td>9002</td>\n",
       "      <td>...</td>\n",
       "      <td>90002</td>\n",
       "      <td>91002</td>\n",
       "      <td>92002</td>\n",
       "      <td>93002</td>\n",
       "      <td>94002</td>\n",
       "      <td>95002</td>\n",
       "      <td>96002</td>\n",
       "      <td>97002</td>\n",
       "      <td>98002</td>\n",
       "      <td>99002</td>\n",
       "    </tr>\n",
       "    <tr>\n",
       "      <th>3</th>\n",
       "      <td>3</td>\n",
       "      <td>1003</td>\n",
       "      <td>2003</td>\n",
       "      <td>3003</td>\n",
       "      <td>4003</td>\n",
       "      <td>5003</td>\n",
       "      <td>6003</td>\n",
       "      <td>7003</td>\n",
       "      <td>8003</td>\n",
       "      <td>9003</td>\n",
       "      <td>...</td>\n",
       "      <td>90003</td>\n",
       "      <td>91003</td>\n",
       "      <td>92003</td>\n",
       "      <td>93003</td>\n",
       "      <td>94003</td>\n",
       "      <td>95003</td>\n",
       "      <td>96003</td>\n",
       "      <td>97003</td>\n",
       "      <td>98003</td>\n",
       "      <td>99003</td>\n",
       "    </tr>\n",
       "    <tr>\n",
       "      <th>4</th>\n",
       "      <td>4</td>\n",
       "      <td>1004</td>\n",
       "      <td>2004</td>\n",
       "      <td>3004</td>\n",
       "      <td>4004</td>\n",
       "      <td>5004</td>\n",
       "      <td>6004</td>\n",
       "      <td>7004</td>\n",
       "      <td>8004</td>\n",
       "      <td>9004</td>\n",
       "      <td>...</td>\n",
       "      <td>90004</td>\n",
       "      <td>91004</td>\n",
       "      <td>92004</td>\n",
       "      <td>93004</td>\n",
       "      <td>94004</td>\n",
       "      <td>95004</td>\n",
       "      <td>96004</td>\n",
       "      <td>97004</td>\n",
       "      <td>98004</td>\n",
       "      <td>99004</td>\n",
       "    </tr>\n",
       "  </tbody>\n",
       "</table>\n",
       "<p>5 rows × 100 columns</p>\n",
       "</div>"
      ],
      "text/plain": [
       "   0     1     2     3     4     5     6     7     8     9   ...       90  \\\n",
       "0   0  1000  2000  3000  4000  5000  6000  7000  8000  9000  ...    90000   \n",
       "1   1  1001  2001  3001  4001  5001  6001  7001  8001  9001  ...    90001   \n",
       "2   2  1002  2002  3002  4002  5002  6002  7002  8002  9002  ...    90002   \n",
       "3   3  1003  2003  3003  4003  5003  6003  7003  8003  9003  ...    90003   \n",
       "4   4  1004  2004  3004  4004  5004  6004  7004  8004  9004  ...    90004   \n",
       "\n",
       "      91     92     93     94     95     96     97     98     99  \n",
       "0  91000  92000  93000  94000  95000  96000  97000  98000  99000  \n",
       "1  91001  92001  93001  94001  95001  96001  97001  98001  99001  \n",
       "2  91002  92002  93002  94002  95002  96002  97002  98002  99002  \n",
       "3  91003  92003  93003  94003  95003  96003  97003  98003  99003  \n",
       "4  91004  92004  93004  94004  95004  96004  97004  98004  99004  \n",
       "\n",
       "[5 rows x 100 columns]"
      ]
     },
     "execution_count": 42,
     "metadata": {},
     "output_type": "execute_result"
    }
   ],
   "source": [
    "df.head(5)"
   ]
  },
  {
   "cell_type": "code",
   "execution_count": 48,
   "metadata": {},
   "outputs": [],
   "source": [
    "def array_index():\n",
    "    for i in range(1000):\n",
    "        a = array[array[:,0]==i]"
   ]
  },
  {
   "cell_type": "code",
   "execution_count": 49,
   "metadata": {},
   "outputs": [
    {
     "name": "stdout",
     "output_type": "stream",
     "text": [
      "7.48 ms ± 500 µs per loop (mean ± std. dev. of 7 runs, 100 loops each)\n"
     ]
    }
   ],
   "source": [
    "%timeit array_index()"
   ]
  },
  {
   "cell_type": "code",
   "execution_count": 57,
   "metadata": {},
   "outputs": [],
   "source": [
    "def df_index():\n",
    "    for i in range(1000):\n",
    "        a = df.loc[df.loc[:,0]==i]"
   ]
  },
  {
   "cell_type": "code",
   "execution_count": 58,
   "metadata": {},
   "outputs": [
    {
     "name": "stdout",
     "output_type": "stream",
     "text": [
      "588 ms ± 30.9 ms per loop (mean ± std. dev. of 7 runs, 1 loop each)\n"
     ]
    }
   ],
   "source": [
    "%timeit df_index()"
   ]
  },
  {
   "cell_type": "markdown",
   "metadata": {},
   "source": [
    "Indexing elements in DataFrame takes far more time than that in Array"
   ]
  },
  {
   "cell_type": "markdown",
   "metadata": {},
   "source": [
    "# 3. Value assignment"
   ]
  },
  {
   "cell_type": "code",
   "execution_count": 60,
   "metadata": {},
   "outputs": [],
   "source": [
    "def array_value_assignment():\n",
    "    copy = array.copy()\n",
    "    for i in range(1000):\n",
    "        for j in range(100):\n",
    "            copy[i,j] = copy[i,j] + 1\n",
    "    return copy"
   ]
  },
  {
   "cell_type": "code",
   "execution_count": 64,
   "metadata": {},
   "outputs": [
    {
     "name": "stdout",
     "output_type": "stream",
     "text": [
      "68 ms ± 4.62 ms per loop (mean ± std. dev. of 7 runs, 10 loops each)\n"
     ]
    }
   ],
   "source": [
    "%timeit array_copy = array_value_assignment()"
   ]
  },
  {
   "cell_type": "code",
   "execution_count": 65,
   "metadata": {},
   "outputs": [],
   "source": [
    "def df_value_assignment():\n",
    "    copy = df.copy()\n",
    "    for i in range(1000):\n",
    "        for j in range(100):\n",
    "            copy.iloc[i,j] = copy.iloc[i,j] + 1\n",
    "    return copy"
   ]
  },
  {
   "cell_type": "code",
   "execution_count": 66,
   "metadata": {},
   "outputs": [
    {
     "name": "stdout",
     "output_type": "stream",
     "text": [
      "32 s ± 6.96 s per loop (mean ± std. dev. of 7 runs, 1 loop each)\n"
     ]
    }
   ],
   "source": [
    "%timeit df_copy = df_value_assignment()"
   ]
  },
  {
   "cell_type": "markdown",
   "metadata": {},
   "source": [
    "Value assignment plus index for on elements in DataFrame takes far far more time than that in Array "
   ]
  },
  {
   "cell_type": "code",
   "execution_count": null,
   "metadata": {},
   "outputs": [],
   "source": []
  }
 ],
 "metadata": {
  "kernelspec": {
   "display_name": "Python 3",
   "language": "python",
   "name": "python3"
  },
  "language_info": {
   "codemirror_mode": {
    "name": "ipython",
    "version": 3
   },
   "file_extension": ".py",
   "mimetype": "text/x-python",
   "name": "python",
   "nbconvert_exporter": "python",
   "pygments_lexer": "ipython3",
   "version": "3.6.8"
  }
 },
 "nbformat": 4,
 "nbformat_minor": 2
}
