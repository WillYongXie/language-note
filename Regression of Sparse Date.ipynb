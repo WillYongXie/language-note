{
 "cells": [
  {
   "cell_type": "code",
   "execution_count": 1,
   "metadata": {},
   "outputs": [],
   "source": [
    "import numpy as np"
   ]
  },
  {
   "cell_type": "code",
   "execution_count": 8,
   "metadata": {},
   "outputs": [],
   "source": [
    "x = 2 * np.random.rand(10000, 1)\n",
    "y = 4 + 3 * x + np.random.randn(10000, 1)"
   ]
  },
  {
   "cell_type": "code",
   "execution_count": 9,
   "metadata": {},
   "outputs": [],
   "source": [
    "x_b = np.c_[np.ones((10000, 1)), x]"
   ]
  },
  {
   "cell_type": "code",
   "execution_count": 4,
   "metadata": {},
   "outputs": [],
   "source": [
    "from sklearn.linear_model import LinearRegression\n",
    "lin_reg = LinearRegression()"
   ]
  },
  {
   "cell_type": "code",
   "execution_count": 6,
   "metadata": {},
   "outputs": [
    {
     "data": {
      "text/plain": [
       "100"
      ]
     },
     "execution_count": 6,
     "metadata": {},
     "output_type": "execute_result"
    }
   ],
   "source": []
  },
  {
   "cell_type": "code",
   "execution_count": 13,
   "metadata": {},
   "outputs": [],
   "source": [
    "def sparse_data(ratio):\n",
    "    x = 2 * np.random.rand(10000, 1)\n",
    "    boundary = int(ratio*10000)\n",
    "    x[:boundary] = 0\n",
    "    y = 4 + 3 * x + np.random.randn(10000, 1)\n",
    "    x_b = np.c_[np.ones((10000, 1)), x]\n",
    "    return x_b, y"
   ]
  },
  {
   "cell_type": "code",
   "execution_count": 17,
   "metadata": {},
   "outputs": [],
   "source": [
    "x, y = sparse_data(0.99)"
   ]
  },
  {
   "cell_type": "code",
   "execution_count": 21,
   "metadata": {},
   "outputs": [],
   "source": [
    "lin_reg.fit(x,y)\n",
    "cof = lin_reg.coef_"
   ]
  },
  {
   "cell_type": "code",
   "execution_count": 22,
   "metadata": {},
   "outputs": [
    {
     "data": {
      "text/plain": [
       "3.1315095394054735"
      ]
     },
     "execution_count": 22,
     "metadata": {},
     "output_type": "execute_result"
    }
   ],
   "source": [
    "cof[0][1]"
   ]
  },
  {
   "cell_type": "code",
   "execution_count": 23,
   "metadata": {},
   "outputs": [],
   "source": [
    "ratio = np.linspace(0,1,100)\n",
    "coef = [0]*100\n",
    "\n",
    "for i in range(100):\n",
    "    x, y = sparse_data(ratio[i])\n",
    "    lin_reg.fit(x,y)\n",
    "    coef[i] = lin_reg.coef_[0][1]"
   ]
  },
  {
   "cell_type": "code",
   "execution_count": 24,
   "metadata": {},
   "outputs": [],
   "source": [
    "%matplotlib inline\n",
    "import matplotlib.pyplot as plt"
   ]
  },
  {
   "cell_type": "code",
   "execution_count": 31,
   "metadata": {},
   "outputs": [
    {
     "data": {
      "text/plain": [
       "[<matplotlib.lines.Line2D at 0x23fc105aba8>]"
      ]
     },
     "execution_count": 31,
     "metadata": {},
     "output_type": "execute_result"
    },
    {
     "data": {
      "image/png": "[encoded data removed]",
      "text/plain": [
       "<Figure size 432x288 with 1 Axes>"
      ]
     },
     "metadata": {
      "needs_background": "light"
     },
     "output_type": "display_data"
    }
   ],
   "source": [
    "plt.plot(coef)"
   ]
  },
  {
   "cell_type": "code",
   "execution_count": 32,
   "metadata": {},
   "outputs": [
    {
     "data": {
      "text/plain": [
       "[3.0079466957391134,\n",
       " 3.0142483436432697,\n",
       " 2.9763757645708115,\n",
       " 3.0254303782867447,\n",
       " 3.0044139614316854,\n",
       " 3.008500098883842,\n",
       " 3.0145735781819405,\n",
       " 2.994042766687167,\n",
       " 2.999451097297871,\n",
       " 3.0255054806354083,\n",
       " 3.002466369030025,\n",
       " 2.970725326937391,\n",
       " 3.0174185879690225,\n",
       " 3.0140156958418474,\n",
       " 2.9878462327653263,\n",
       " 2.999636772242027,\n",
       " 2.9848337946745493,\n",
       " 3.0103136481371466,\n",
       " 3.000064193616742,\n",
       " 3.0104612199510474,\n",
       " 3.014387306504102,\n",
       " 3.0131206559269605,\n",
       " 2.9800003785980413,\n",
       " 3.0181307658746475,\n",
       " 2.998511307131817,\n",
       " 2.9908646658297933,\n",
       " 3.0117329017858765,\n",
       " 3.020642364955813,\n",
       " 3.0077987641373154,\n",
       " 3.0017954267495597,\n",
       " 2.987225879055684,\n",
       " 3.0107409445065163,\n",
       " 3.010307391034984,\n",
       " 3.0217059925604675,\n",
       " 2.9867415888020106,\n",
       " 3.003257360724779,\n",
       " 2.9834643591497163,\n",
       " 2.999251875606576,\n",
       " 2.987713872276254,\n",
       " 2.974757302753812,\n",
       " 2.9917852316904177,\n",
       " 3.0168482568782964,\n",
       " 3.022497653424432,\n",
       " 3.015469069965248,\n",
       " 2.988203018944011,\n",
       " 2.989146196426128,\n",
       " 2.999448291986077,\n",
       " 3.0103421294896813,\n",
       " 2.9710810383206034,\n",
       " 2.976390710333574,\n",
       " 3.014677658500093,\n",
       " 3.0124288084329507,\n",
       " 2.982481047572262,\n",
       " 2.9830925265362356,\n",
       " 3.0160290988976364,\n",
       " 2.995111271661744,\n",
       " 2.9907473899803905,\n",
       " 3.0087173255921376,\n",
       " 3.0375822944711435,\n",
       " 3.007257550393436,\n",
       " 2.9732155136068874,\n",
       " 2.982713600792513,\n",
       " 3.0090722451603353,\n",
       " 2.982134504849952,\n",
       " 3.0603137814153216,\n",
       " 2.9883851206703054,\n",
       " 3.008989374563423,\n",
       " 2.980879996112012,\n",
       " 2.9831706235552273,\n",
       " 3.024476013424271,\n",
       " 3.023384336348127,\n",
       " 2.9882389187037526,\n",
       " 3.0110496134936606,\n",
       " 2.9659091906199873,\n",
       " 2.989988963344737,\n",
       " 2.979565286965778,\n",
       " 2.974346880301052,\n",
       " 2.9848458901301775,\n",
       " 3.0167332341663626,\n",
       " 2.994357700484783,\n",
       " 2.9877458843300704,\n",
       " 2.9990986441382437,\n",
       " 2.9557062895881185,\n",
       " 3.0037912299285745,\n",
       " 3.0250958746011567,\n",
       " 2.992789909595671,\n",
       " 2.9621287282918534,\n",
       " 2.982563478381011,\n",
       " 3.0296272980195664,\n",
       " 2.9840926119401407,\n",
       " 3.0299235883612967,\n",
       " 2.97758102707702,\n",
       " 2.9657505730903897,\n",
       " 3.02265500489518,\n",
       " 3.0016537235807372,\n",
       " 2.971100467569636,\n",
       " 2.8768462756337376,\n",
       " 3.052552528016346,\n",
       " 3.009386873435118,\n",
       " 0.0]"
      ]
     },
     "execution_count": 32,
     "metadata": {},
     "output_type": "execute_result"
    }
   ],
   "source": [
    "coef"
   ]
  },
  {
   "cell_type": "code",
   "execution_count": null,
   "metadata": {},
   "outputs": [],
   "source": []
  }
 ],
 "metadata": {
  "kernelspec": {
   "display_name": "Python 3",
   "language": "python",
   "name": "python3"
  },
  "language_info": {
   "codemirror_mode": {
    "name": "ipython",
    "version": 3
   },
   "file_extension": ".py",
   "mimetype": "text/x-python",
   "name": "python",
   "nbconvert_exporter": "python",
   "pygments_lexer": "ipython3",
   "version": "3.6.8"
  }
 },
 "nbformat": 4,
 "nbformat_minor": 2
}
